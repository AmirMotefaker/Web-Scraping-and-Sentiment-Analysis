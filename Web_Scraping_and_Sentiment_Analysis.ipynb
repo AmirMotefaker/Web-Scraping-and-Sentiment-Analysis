{
  "cells": [
    {
      "cell_type": "markdown",
      "metadata": {
        "id": "view-in-github",
        "colab_type": "text"
      },
      "source": [
        "<a href=\"https://colab.research.google.com/github/AmirMotefaker/Web-Scraping-and-Sentiment-Analysis/blob/main/Web_Scraping_and_Sentiment_Analysis.ipynb\" target=\"_parent\"><img src=\"https://colab.research.google.com/assets/colab-badge.svg\" alt=\"Open In Colab\"/></a>"
      ]
    },
    {
      "cell_type": "markdown",
      "metadata": {
        "id": "uGnrvmzPCGK2"
      },
      "source": [
        "# Install Packages"
      ]
    },
    {
      "cell_type": "code",
      "execution_count": 4,
      "metadata": {
        "colab": {
          "base_uri": "https://localhost:8080/"
        },
        "id": "pY-dK8_ZBUyP",
        "outputId": "c450d417-3123-4fa1-e24f-c70d570be22f"
      },
      "outputs": [
        {
          "output_type": "stream",
          "name": "stderr",
          "text": [
            "Installing package into ‘/usr/local/lib/R/site-library’\n",
            "(as ‘lib’ is unspecified)\n",
            "\n",
            "Installing package into ‘/usr/local/lib/R/site-library’\n",
            "(as ‘lib’ is unspecified)\n",
            "\n",
            "Installing package into ‘/usr/local/lib/R/site-library’\n",
            "(as ‘lib’ is unspecified)\n",
            "\n",
            "Installing package into ‘/usr/local/lib/R/site-library’\n",
            "(as ‘lib’ is unspecified)\n",
            "\n"
          ]
        }
      ],
      "source": [
        "install.packages(\"tidyverse\")\n",
        "install.packages(\"RSelenium\")\n",
        "install.packages(\"rvest\")\n",
        "install.packages(\"sys\")"
      ]
    },
    {
      "cell_type": "markdown",
      "metadata": {
        "id": "XJMmolJmCerx"
      },
      "source": [
        "# Load Libraries"
      ]
    },
    {
      "cell_type": "code",
      "execution_count": 5,
      "metadata": {
        "id": "iWfzWYc2CnUf"
      },
      "outputs": [],
      "source": [
        "library(\"RSelenium\")\n",
        "library(\"rvest\")\n",
        "library(\"tidyverse\")\n",
        "library(\"sys\")"
      ]
    },
    {
      "cell_type": "markdown",
      "metadata": {
        "id": "6LYVoXA5Scpx"
      },
      "source": [
        "# Define the variable"
      ]
    },
    {
      "cell_type": "code",
      "execution_count": 6,
      "metadata": {
        "id": "UmOrnjGnSfTf"
      },
      "outputs": [],
      "source": [
        "url <- \"https://www.tripadvisor.com/Hotel_Review-g60982-d209422-Reviews-Hilton_Waikiki_Beach-Honolulu_Oahu_Hawaii.html\""
      ]
    },
    {
      "cell_type": "markdown",
      "source": [
        "# Navigate to the URL with Selenium"
      ],
      "metadata": {
        "id": "mZ7nx756nLxt"
      }
    },
    {
      "cell_type": "code",
      "source": [
        "rD <- rsDriver(browser=\"firefox\", port=45354L, verbose=F)\n",
        "remDr <- rD[[\"client\"]]\n",
        "remDr$navigate(url)"
      ],
      "metadata": {
        "id": "PBU8xUVWnP5j"
      },
      "execution_count": null,
      "outputs": []
    }
  ],
  "metadata": {
    "colab": {
      "provenance": [],
      "authorship_tag": "ABX9TyPGp+bQNnniBs4cakGOJKVM",
      "include_colab_link": true
    },
    "gpuClass": "standard",
    "kernelspec": {
      "display_name": "R",
      "name": "ir"
    },
    "language_info": {
      "name": "R"
    }
  },
  "nbformat": 4,
  "nbformat_minor": 0
}